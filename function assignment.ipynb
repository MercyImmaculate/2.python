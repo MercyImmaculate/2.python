{
 "cells": [
  {
   "cell_type": "code",
   "execution_count": 7,
   "id": "c934edef-2173-421c-b9d2-970ff9e22134",
   "metadata": {},
   "outputs": [],
   "source": [
    "lists=['Machine Learning','Nerual Networks','Vision','Robotics','Speech Processing','Natural Language processing']\n",
    "def subfields():\n",
    "    print(\"Sub-fields in AI are:\") \n",
    "    for i in lists:\n",
    "        print(i)"
   ]
  },
  {
   "cell_type": "code",
   "execution_count": 9,
   "id": "73e731a6-6aa7-48f3-9096-2b467ea5aee6",
   "metadata": {},
   "outputs": [
    {
     "name": "stdout",
     "output_type": "stream",
     "text": [
      "Sub-fields in AI are:\n",
      "Machine Learning\n",
      "Nerual Networks\n",
      "Vision\n",
      "Robotics\n",
      "Speech Processing\n",
      "Natural Language processing\n"
     ]
    }
   ],
   "source": [
    "subfields()"
   ]
  },
  {
   "cell_type": "code",
   "execution_count": 39,
   "id": "4d4e560c-59e9-45a4-be2f-84005e3abfaa",
   "metadata": {},
   "outputs": [
    {
     "name": "stdin",
     "output_type": "stream",
     "text": [
      "Enter a number: 52452\n"
     ]
    },
    {
     "name": "stdout",
     "output_type": "stream",
     "text": [
      "52452 is Even Number\n"
     ]
    },
    {
     "data": {
      "text/plain": [
       "(52452, 'Even Number')"
      ]
     },
     "execution_count": 39,
     "metadata": {},
     "output_type": "execute_result"
    }
   ],
   "source": [
    "num1=int(input(\"Enter a number:\"))\n",
    "def OddEven():\n",
    "    if(num1%2==0):\n",
    "        print(num1,\"is Even Number\")\n",
    "        final=num1,\"Even Number\"\n",
    "    else:\n",
    "        print(num1,\"is Odd Number\")\n",
    "        final=num1,\"Odd Number\"\n",
    "    return final\n",
    "OddEven()"
   ]
  },
  {
   "cell_type": "code",
   "execution_count": 143,
   "id": "16bdb326-e4bc-48d5-a780-e72b2ef33f77",
   "metadata": {},
   "outputs": [
    {
     "name": "stdin",
     "output_type": "stream",
     "text": [
      "Your Gender: Male\n",
      "Your Age: 20\n"
     ]
    },
    {
     "name": "stdout",
     "output_type": "stream",
     "text": [
      "Not Eligible\n"
     ]
    }
   ],
   "source": [
    "gender=input(\"Your Gender:\")\n",
    "age=int(input(\"Your Age:\"))\n",
    "def eligibility():\n",
    "    if(gender=='Male'):\n",
    "        if(age>=21):\n",
    "            print(\"Eligible\")\n",
    "            elg=\"Eligible\"\n",
    "        else:\n",
    "            print(\"Not Eligible\")\n",
    "            elg=\"Not Eligible\"\n",
    "    elif(gender=='Female'):\n",
    "        if(age>=18):\n",
    "            print(\"Eligible\")\n",
    "            elg=\"Eligible\"\n",
    "        else:\n",
    "            print(\"Not Eligible\")\n",
    "            elg=\"Not Eligible\"\n",
    "        return elg\n",
    "eligibility()"
   ]
  },
  {
   "cell_type": "code",
   "execution_count": 103,
   "id": "b602fd5d-cae2-4221-8372-87d6f6ed0c4c",
   "metadata": {},
   "outputs": [
    {
     "name": "stdin",
     "output_type": "stream",
     "text": [
      "Subject1= 98\n",
      "Subject2= 87\n",
      "Subject3= 95\n",
      "Subject4= 95\n",
      "Subject5= 93\n"
     ]
    },
    {
     "name": "stdout",
     "output_type": "stream",
     "text": [
      "Total= 468\n",
      "percent= 93.6\n"
     ]
    }
   ],
   "source": [
    "Sub1=int(input(\"Subject1=\"))\n",
    "Sub2=int(input(\"Subject2=\"))\n",
    "Sub3=int(input(\"Subject3=\"))\n",
    "Sub4=int(input(\"Subject4=\"))\n",
    "Sub5=int(input(\"Subject5=\"))\n",
    "def percentage():\n",
    "    Total=Sub1+Sub2+Sub3+Sub4+Sub5\n",
    "    print(\"Total=\",Total)\n",
    "    percent=Total/5\n",
    "    print(\"percent=\",percent)\n",
    "percentage()         "
   ]
  },
  {
   "cell_type": "code",
   "execution_count": 137,
   "id": "8f21ef19-998c-46e5-bfbf-7eba1c7d55e3",
   "metadata": {},
   "outputs": [
    {
     "name": "stdin",
     "output_type": "stream",
     "text": [
      "Height= 32\n",
      "Breadth= 34\n"
     ]
    },
    {
     "name": "stdout",
     "output_type": "stream",
     "text": [
      "Area Formula:Height*Breadth/2\n",
      "Area of triangle: 544.0\n"
     ]
    },
    {
     "name": "stdin",
     "output_type": "stream",
     "text": [
      "Height1= 2\n",
      "Height2= 4\n",
      "Breadth1= 4\n"
     ]
    },
    {
     "name": "stdout",
     "output_type": "stream",
     "text": [
      "Perimeter Formua:Height1+Height2+Breadth1\n",
      "Perimeter: 10\n"
     ]
    }
   ],
   "source": [
    "def Triangle():\n",
    "    Height=int(input(\"Height=\"))\n",
    "    Breadth=int(input(\"Breadth=\"))\n",
    "    Area=Height*Breadth/2\n",
    "    print(\"Area Formula:Height*Breadth/2\")\n",
    "    print(\"Area of triangle:\",Area)\n",
    "    Height1=int(input(\"Height1=\"))\n",
    "    Height2=int(input(\"Height2=\"))\n",
    "    Breadth1=int(input(\"Breadth1=\"))\n",
    "    Perimeter=Height1+Height2+Breadth1\n",
    "    print(\"Perimeter Formua:Height1+Height2+Breadth1\")\n",
    "    print(\"Perimeter:\",Perimeter)\n",
    "Triangle()"
   ]
  },
  {
   "cell_type": "code",
   "execution_count": null,
   "id": "4cfb776d-d4cb-4c2c-b7cc-b01063c9140a",
   "metadata": {},
   "outputs": [],
   "source": []
  }
 ],
 "metadata": {
  "kernelspec": {
   "display_name": "Python 3 (ipykernel)",
   "language": "python",
   "name": "python3"
  },
  "language_info": {
   "codemirror_mode": {
    "name": "ipython",
    "version": 3
   },
   "file_extension": ".py",
   "mimetype": "text/x-python",
   "name": "python",
   "nbconvert_exporter": "python",
   "pygments_lexer": "ipython3",
   "version": "3.12.7"
  }
 },
 "nbformat": 4,
 "nbformat_minor": 5
}
